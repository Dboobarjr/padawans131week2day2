{
 "cells": [
  {
   "cell_type": "markdown",
   "metadata": {},
   "source": [
    "# Functions, Scoping, Data Collections 1 & List Comprehensions"
   ]
  },
  {
   "cell_type": "markdown",
   "metadata": {},
   "source": [
    "## Tasks Today:\n",
    "\n",
    "<i>Monday Additions (or, and ... if statements)</i>\n",
    "\n",
    "1) String Manipulation <br>\n",
    " &nbsp;&nbsp;&nbsp;&nbsp; a) strip() <br>\n",
    " &nbsp;&nbsp;&nbsp;&nbsp; b) title() <br>\n",
    "2) Working With Lists <br>\n",
    " &nbsp;&nbsp;&nbsp;&nbsp; a) min() <br>\n",
    " &nbsp;&nbsp;&nbsp;&nbsp; b) max() <br>\n",
    " &nbsp;&nbsp;&nbsp;&nbsp; c) sum() <br>\n",
    " &nbsp;&nbsp;&nbsp;&nbsp; d) sort() <br>\n",
    " &nbsp;&nbsp;&nbsp;&nbsp; e) Copying a List <br>\n",
    " &nbsp;&nbsp;&nbsp;&nbsp; f) 'in' keyword <br>\n",
    " &nbsp;&nbsp;&nbsp;&nbsp; g) 'not in' keyword <br>\n",
    " &nbsp;&nbsp;&nbsp;&nbsp; i) Checking an Empty List <br>\n",
    " &nbsp;&nbsp;&nbsp;&nbsp; j) Removing Instances with a Loop <br>\n",
    "3) List Comprehensions <br>\n",
    "4) Tuples <br>\n",
    " &nbsp;&nbsp;&nbsp;&nbsp; a) sorted() <br>\n",
    "5) Functions <br>\n",
    " &nbsp;&nbsp;&nbsp;&nbsp; a) User-Defined vs. Built-In Functions <br>\n",
    " &nbsp;&nbsp;&nbsp;&nbsp; b) Accepting Parameters <br>\n",
    " &nbsp;&nbsp;&nbsp;&nbsp; c) Default Parameters <br>\n",
    " &nbsp;&nbsp;&nbsp;&nbsp; d) Making an Argument Optional <br>\n",
    " &nbsp;&nbsp;&nbsp;&nbsp; e) Keyword Arguments <br>\n",
    " &nbsp;&nbsp;&nbsp;&nbsp; f) Returning Values <br>\n",
    " &nbsp;&nbsp;&nbsp;&nbsp; g) *args <br>\n",
    " &nbsp;&nbsp;&nbsp;&nbsp; h) Docstring <br>\n",
    " &nbsp;&nbsp;&nbsp;&nbsp; i) Using a User Function in a Loop <br>\n",
    "6) Scope"
   ]
  },
  {
   "cell_type": "markdown",
   "metadata": {},
   "source": [
    "### String Manipulation"
   ]
  },
  {
   "cell_type": "markdown",
   "metadata": {},
   "source": [
    "##### .lstrip()"
   ]
  },
  {
   "cell_type": "code",
   "execution_count": 6,
   "metadata": {},
   "outputs": [
    {
     "name": "stdout",
     "output_type": "stream",
     "text": [
      "      gdfdfdfd Daniel Boobar      \n"
     ]
    }
   ],
   "source": [
    "# string.lstrip()\n",
    "\n",
    "name = '      Daniel Boobar      '\n",
    "name.lstrip()\n",
    "print(name.lstrip())"
   ]
  },
  {
   "cell_type": "markdown",
   "metadata": {},
   "source": [
    "##### .rstrip()"
   ]
  },
  {
   "cell_type": "code",
   "execution_count": 3,
   "metadata": {},
   "outputs": [
    {
     "name": "stdout",
     "output_type": "stream",
     "text": [
      "      Daniel Boobar\n"
     ]
    }
   ],
   "source": [
    "# string.rstrip()\n",
    "print(name.rstrip())\n"
   ]
  },
  {
   "cell_type": "markdown",
   "metadata": {},
   "source": [
    "##### .strip()"
   ]
  },
  {
   "cell_type": "code",
   "execution_count": 5,
   "metadata": {},
   "outputs": [
    {
     "name": "stdout",
     "output_type": "stream",
     "text": [
      "Daniel Boobar\n"
     ]
    }
   ],
   "source": [
    "# string.strip()\n",
    "print(name.strip())"
   ]
  },
  {
   "cell_type": "markdown",
   "metadata": {},
   "source": [
    "##### .title()"
   ]
  },
  {
   "cell_type": "code",
   "execution_count": 8,
   "metadata": {},
   "outputs": [
    {
     "name": "stdout",
     "output_type": "stream",
     "text": [
      "Harry Potter And The Half Blood Prince\n",
      "Harry potter and the half blood prince\n",
      "HARRY POTTER AND THE HALF BLOOD PRINCE\n"
     ]
    }
   ],
   "source": [
    "# string.title()\n",
    "movie = 'harry potter and the half blood prince'\n",
    "\n",
    "print(movie.title())\n",
    "print(movie.capitalize())\n",
    "print(movie.upper())\n"
   ]
  },
  {
   "cell_type": "markdown",
   "metadata": {},
   "source": [
    "### String Exercise <br>\n",
    "<p>Strip all white space and capitalize every name in the list given</p>"
   ]
  },
  {
   "cell_type": "code",
   "execution_count": 28,
   "metadata": {},
   "outputs": [
    {
     "name": "stdout",
     "output_type": "stream",
     "text": [
      "['Connor', 'Max', 'Evan', 'Jordan']\n"
     ]
    }
   ],
   "source": [
    "names = ['    coNNor', 'max', ' EVan ', 'JORDAN']\n",
    "# HINT: You will need to use a for loop for iteration\n",
    "\n",
    "fixed = []\n",
    "for name in names:\n",
    "  fixed_name = name.strip().capitalize()\n",
    "  fixed.append(fixed_name)\n",
    "\n",
    "print(fixed)\n"
   ]
  },
  {
   "cell_type": "markdown",
   "metadata": {},
   "source": [
    "### Working With Lists"
   ]
  },
  {
   "cell_type": "markdown",
   "metadata": {},
   "source": [
    "##### min()"
   ]
  },
  {
   "cell_type": "code",
   "execution_count": 35,
   "metadata": {},
   "outputs": [
    {
     "name": "stdout",
     "output_type": "stream",
     "text": [
      "4\n"
     ]
    }
   ],
   "source": [
    "# min(list)\n",
    "numbers = [5,6,7,8,9,10,4]\n",
    "my_min = min(numbers)\n",
    "print(my_min)\n"
   ]
  },
  {
   "cell_type": "markdown",
   "metadata": {},
   "source": [
    "##### max()"
   ]
  },
  {
   "cell_type": "code",
   "execution_count": 32,
   "metadata": {},
   "outputs": [
    {
     "name": "stdout",
     "output_type": "stream",
     "text": [
      "10\n"
     ]
    }
   ],
   "source": [
    "# max(list)\n",
    "print(max(numbers))\n"
   ]
  },
  {
   "cell_type": "markdown",
   "metadata": {},
   "source": [
    "##### sum()"
   ]
  },
  {
   "cell_type": "code",
   "execution_count": 36,
   "metadata": {},
   "outputs": [
    {
     "name": "stdout",
     "output_type": "stream",
     "text": [
      "49\n"
     ]
    }
   ],
   "source": [
    "# sum(list)\n",
    "my_sum = sum(numbers)\n",
    "print(my_sum)\n"
   ]
  },
  {
   "cell_type": "markdown",
   "metadata": {},
   "source": [
    "##### sorted()"
   ]
  },
  {
   "cell_type": "code",
   "execution_count": 38,
   "metadata": {},
   "outputs": [
    {
     "name": "stdout",
     "output_type": "stream",
     "text": [
      "[4, 5, 6, 7, 8, 9, 10]\n",
      "[5, 6, 7, 8, 9, 10, 4]\n"
     ]
    }
   ],
   "source": [
    "# sorted(list)\n",
    "sorted_version = sorted(numbers)\n",
    "print(sorted_version)\n",
    "print(numbers)\n"
   ]
  },
  {
   "cell_type": "markdown",
   "metadata": {},
   "source": [
    "##### .sort() <br>\n",
    "<p>Difference between sort and sorted, is that sorted doesn't change original list it returns a copy, while .sort changes the original list</p>"
   ]
  },
  {
   "cell_type": "code",
   "execution_count": 39,
   "metadata": {},
   "outputs": [
    {
     "name": "stdout",
     "output_type": "stream",
     "text": [
      "None\n",
      "[4, 5, 6, 7, 8, 9, 10]\n"
     ]
    }
   ],
   "source": [
    "# list.sort()\n",
    "\n",
    "result = numbers.sort()\n",
    "print(result)\n",
    "print(numbers)\n",
    "# use sorted when you don't want to alter original list, use .sort() when you want to alter original list"
   ]
  },
  {
   "cell_type": "markdown",
   "metadata": {},
   "source": [
    "##### Copying a List"
   ]
  },
  {
   "cell_type": "code",
   "execution_count": 48,
   "metadata": {},
   "outputs": [
    {
     "name": "stdout",
     "output_type": "stream",
     "text": [
      "[6, 6, 6, 6]\n",
      "[6, 6, 6, 6]\n",
      "[11, 22, 33, 44, 55]\n",
      "[66, 77, 88, 99]\n",
      "[44, 55, 66]\n",
      "[44, 66, 88]\n",
      "[99, 88, 77, 66, 55, 44, 33, 22, 11]\n"
     ]
    }
   ],
   "source": [
    "# [:] copies a list, doesn't alter original\n",
    "mylis = [6,6,6]\n",
    "mylist = mylis\n",
    "mylist.append(6)\n",
    "print(mylist)\n",
    "\n",
    "clone = mylis[:]    #slices entire list copying it\n",
    "print(clone)\n",
    "\n",
    "nums = [11,22,33,44,55,66,77,88,99]\n",
    "l1=nums[:5]\n",
    "print(l1)\n",
    "\n",
    "l2=nums[5:]\n",
    "print(l2)\n",
    "\n",
    "l3=nums[3:6]\n",
    "print(l3)\n",
    "\n",
    "l4=nums[3:8:2]\n",
    "print(l4)\n",
    "\n",
    "#reversing list\n",
    "reverse=nums[9::-1]\n",
    "print(reverse)"
   ]
  },
  {
   "cell_type": "markdown",
   "metadata": {},
   "source": [
    "##### 'in' keyword"
   ]
  },
  {
   "cell_type": "code",
   "execution_count": 50,
   "metadata": {},
   "outputs": [
    {
     "name": "stdout",
     "output_type": "stream",
     "text": [
      "found\n"
     ]
    }
   ],
   "source": [
    "teachers = ['bren', 'brad', 'sam']\n",
    "if 'sam' not in teachers:\n",
    "    print('found')\n",
    "else:\n",
    "    print('not found')"
   ]
  },
  {
   "cell_type": "markdown",
   "metadata": {},
   "source": [
    "##### 'not in' keyword"
   ]
  },
  {
   "cell_type": "code",
   "execution_count": null,
   "metadata": {},
   "outputs": [],
   "source": [
    "#see above"
   ]
  },
  {
   "cell_type": "markdown",
   "metadata": {},
   "source": [
    "##### Checking an Empty List"
   ]
  },
  {
   "cell_type": "code",
   "execution_count": 52,
   "metadata": {},
   "outputs": [
    {
     "name": "stdout",
     "output_type": "stream",
     "text": [
      "found empty lsit\n",
      "found not empty\n"
     ]
    }
   ],
   "source": [
    "# if l_1: or if l_1 = []\n",
    "\n",
    "empty = []\n",
    "\n",
    "if empty == []:\n",
    "    print('found empty lsit')\n",
    "\n",
    "if not empty:\n",
    "    print('found not empty')"
   ]
  },
  {
   "cell_type": "markdown",
   "metadata": {},
   "source": [
    "##### Removing Instances with a Loop"
   ]
  },
  {
   "cell_type": "code",
   "execution_count": 58,
   "metadata": {},
   "outputs": [
    {
     "name": "stdout",
     "output_type": "stream",
     "text": [
      "['connor', 'joel', 'dan', 'max']\n",
      "['connor', 'joel', 'dan']\n",
      "['connor', 'joel', 'dan']\n"
     ]
    }
   ],
   "source": [
    "# while, remove\n",
    "names = ['connor', 'max','max','joel','dan','max']\n",
    "for name in names:\n",
    "    if name == 'max':\n",
    "        names.remove('max')\n",
    "\n",
    "print(names)\n",
    "\n",
    "while 'max' in names:\n",
    "        names.remove('max')\n",
    "print(names)\n",
    "\n",
    "\n",
    "index = 0\n",
    "while index < len(names):\n",
    "     if names[index] == 'max':\n",
    "          names.remove('max')\n",
    "     else:\n",
    "        index += 1\n",
    "\n",
    "print(names)"
   ]
  },
  {
   "cell_type": "markdown",
   "metadata": {},
   "source": [
    "### List Exercise <br>\n",
    "<p>Remove all duplicates<br><b>Extra: Create a program that will remove any duplicates from a given list</b></p>"
   ]
  },
  {
   "cell_type": "code",
   "execution_count": 59,
   "metadata": {},
   "outputs": [
    {
     "name": "stdout",
     "output_type": "stream",
     "text": [
      "['connor', 'bob', 'evan', 'max', 2, 3, 4, 'kevin']\n"
     ]
    }
   ],
   "source": [
    "names = ['connor', 'connor', 'bob', 'connor', 'evan', 'max', 'evan', 2, 2, 2, 3, 3, 4, 'bob', 'kevin']\n",
    "# Hint 1: You will need an append\n",
    "# Hint 2: Using an empty list will make life easier\n",
    "fixed = []\n",
    "\n",
    "for name in names:\n",
    "    if name not in fixed:\n",
    "        fixed.append(name)\n",
    "print(fixed)\n",
    "\n",
    "\n"
   ]
  },
  {
   "cell_type": "markdown",
   "metadata": {},
   "source": [
    "### List Comprehensions <br>\n",
    "<p>Creating a quickly generated list to work with<br>*result*  = [*transform*    *iteration*         *filter*     ]</p>"
   ]
  },
  {
   "cell_type": "markdown",
   "metadata": {},
   "source": [
    "##### In a list comprehension we have a few pieces:\n",
    "1. The first is the counter/ variable - IN this the variable is x\n",
    "2. then we have a transform for the variable\n",
    "3. The finale part of a list comp is called the condition\n",
    "\n",
    "```python\n",
    "    [variable, transform, condition]\n",
    "```"
   ]
  },
  {
   "cell_type": "code",
   "execution_count": 65,
   "metadata": {},
   "outputs": [
    {
     "name": "stdout",
     "output_type": "stream",
     "text": [
      "[0, 2, 4, 6, 8, 10, 12, 14, 16, 18, 20]\n",
      "[0, 2, 4, 6, 8, 10, 12, 14, 16, 18, 20]\n",
      "[0, 1, 4, 9, 16, 25, 36, 49, 64, 81, 100, 121, 144, 169, 196, 225, 256, 289, 324, 361, 400]\n"
     ]
    }
   ],
   "source": [
    "# number comprehension\n",
    "\n",
    "# With a regular for loop\n",
    "nums = []\n",
    "for num in range(21):\n",
    "    if num % 2 == 0:\n",
    "        nums.append(num)\n",
    "\n",
    "print(nums)\n",
    "\n",
    "\n",
    "\n",
    "# IN a list comprehension we have a few pieces:\n",
    "# The first is the counter/ variable - IN this the variable is x\n",
    "# Then we have a transform for the variable \n",
    "# The finale part of a list comp is called the condition\n",
    "#[variable, transform, condition]\n",
    "nums_1c = [num for num in range (21) if num % 2 == 0]\n",
    "print(nums_1c)\n",
    "\n",
    "nums_2c = [num**2 for num in range (21)]\n",
    "print(nums_2c)\n",
    "\n"
   ]
  },
  {
   "cell_type": "markdown",
   "metadata": {},
   "source": [
    "There are a few benefits to using List comprehensions. The most obvious would be that we now have shorter code to work with instead of using 3+ lines of code in the for loop variant.\n",
    "\n",
    "Another is an added benefit to memory usage. Since the list's memory is allocated first before adding elements to it, we don't have to resize the list once we add elements to it.\n",
    "\n",
    "Lastly, list comprehensions are considered the \"pythonic\" way to write code by the PEP8 standards (Python Style Guide)"
   ]
  },
  {
   "cell_type": "code",
   "execution_count": null,
   "metadata": {},
   "outputs": [],
   "source": [
    "# square number comprehension\n",
    "\n"
   ]
  },
  {
   "cell_type": "code",
   "execution_count": 72,
   "metadata": {},
   "outputs": [
    {
     "name": "stdout",
     "output_type": "stream",
     "text": [
      "[]\n"
     ]
    }
   ],
   "source": [
    "# string comprehension\n",
    "\n",
    "\n",
    "\n",
    "names = ['   jeff', 'moMo', ' colliN   ', 'sam           ']\n",
    "\n",
    "\n",
    "fixed_names = [name.strip().capitalize() for name in names if name[0].lower() == 'a']\n",
    "\n",
    "print(fixed_names)"
   ]
  },
  {
   "cell_type": "code",
   "execution_count": 69,
   "metadata": {},
   "outputs": [
    {
     "name": "stdout",
     "output_type": "stream",
     "text": [
      "['Jeff', 'Momo', 'Collin', 'Sam']\n"
     ]
    }
   ],
   "source": [
    "fixed_names = [name.strip().capitalize() for name in names]\n",
    "print (fixed_names)"
   ]
  },
  {
   "cell_type": "code",
   "execution_count": null,
   "metadata": {},
   "outputs": [],
   "source": []
  },
  {
   "cell_type": "markdown",
   "metadata": {},
   "source": [
    "### Tuples <br>\n",
    "<p><b>Defined as an immutable list</b></p><br>Seperated by commas using parenthesis"
   ]
  },
  {
   "cell_type": "code",
   "execution_count": 75,
   "metadata": {},
   "outputs": [
    {
     "name": "stdout",
     "output_type": "stream",
     "text": [
      "(10, 20, 30)\n",
      "(100, 200, 300)\n",
      "20\n",
      "3\n"
     ]
    }
   ],
   "source": [
    "tup1 = (10,20,30)\n",
    "tup2 = 100,200,300\n",
    "\n",
    "print(tup1)\n",
    "print(tup2)\n",
    "\n",
    "\n",
    "\n",
    "print(tup1[1])\n",
    "print(len(tup1))\n"
   ]
  },
  {
   "cell_type": "markdown",
   "metadata": {},
   "source": [
    "##### sorted()"
   ]
  },
  {
   "cell_type": "code",
   "execution_count": 77,
   "metadata": {},
   "outputs": [
    {
     "name": "stdout",
     "output_type": "stream",
     "text": [
      "[100, 200, 300]\n",
      "(100, 200, 300)\n"
     ]
    }
   ],
   "source": [
    "result = sorted(tup2)\n",
    "print(result)\n",
    "\n",
    "result_tup = tuple(result)\n",
    "print(result_tup)\n",
    "\n",
    "\n"
   ]
  },
  {
   "cell_type": "markdown",
   "metadata": {},
   "source": [
    "##### Adding values to a Tuple"
   ]
  },
  {
   "cell_type": "code",
   "execution_count": 80,
   "metadata": {},
   "outputs": [
    {
     "name": "stdout",
     "output_type": "stream",
     "text": [
      "(10, 11, 12, 13, 14, 15)\n",
      "(10, 11, 12, 13, 14, 15, 16)\n"
     ]
    }
   ],
   "source": [
    "tup3 = (10,11,12)\n",
    "tup4 = (13,14,15)\n",
    "result = tup3 + tup4\n",
    "print(result)\n",
    "\n",
    "result +=(16,)\n",
    "print(result)"
   ]
  },
  {
   "cell_type": "markdown",
   "metadata": {},
   "source": [
    "## Functions"
   ]
  },
  {
   "cell_type": "markdown",
   "metadata": {},
   "source": [
    "##### User-Defined vs. Built-In Functions"
   ]
  },
  {
   "cell_type": "code",
   "execution_count": 81,
   "metadata": {},
   "outputs": [],
   "source": [
    "def say_hello():\n",
    "    print('hello there')\n",
    "\n"
   ]
  },
  {
   "cell_type": "markdown",
   "metadata": {},
   "source": [
    "##### Accepting Parameters"
   ]
  },
  {
   "cell_type": "code",
   "execution_count": 101,
   "metadata": {},
   "outputs": [
    {
     "name": "stdout",
     "output_type": "stream",
     "text": [
      "daniel.boobar@codingtemple.com\n"
     ]
    }
   ],
   "source": [
    "def gen_email(first_name, last_name):\n",
    "    email = f\"{first_name.lower()}.{last_name.lower()}@codingtemple.com\"\n",
    "    print(email)\n",
    "    \n",
    "gen_email('Daniel','Boobar')"
   ]
  },
  {
   "cell_type": "markdown",
   "metadata": {},
   "source": [
    "##### Default Parameters"
   ]
  },
  {
   "cell_type": "code",
   "execution_count": 110,
   "metadata": {},
   "outputs": [
    {
     "name": "stdout",
     "output_type": "stream",
     "text": [
      "daniel.boobar@codingtemple.com\n",
      "jenna.debiagi@google.com\n"
     ]
    }
   ],
   "source": [
    "def gen_email(first_name, last_name, company='codingtemple'):\n",
    "    email = f\"{first_name}.{last_name}@{company}.com\".lower()\n",
    "    print(email)\n",
    "    \n",
    "gen_email('daniel','boobar',)\n",
    "gen_email('jenna','debiagi','google')"
   ]
  },
  {
   "cell_type": "markdown",
   "metadata": {},
   "source": [
    "##### Making an Argument Optional"
   ]
  },
  {
   "cell_type": "code",
   "execution_count": null,
   "metadata": {},
   "outputs": [],
   "source": []
  },
  {
   "cell_type": "markdown",
   "metadata": {},
   "source": [
    "##### Keyword Arguments"
   ]
  },
  {
   "cell_type": "code",
   "execution_count": 113,
   "metadata": {},
   "outputs": [
    {
     "name": "stdout",
     "output_type": "stream",
     "text": [
      "hello my name is Daniel and i am 21 years old. my favorite color is blue and if i could have any power i would have teleporation!\n",
      "hello my name is jenna and i am 19 years old. my favorite color is blue and if i could have any power i would have speed!\n"
     ]
    }
   ],
   "source": [
    "# last_name='Max', first_name='Smith' in the function call\n",
    "\n",
    "# see above\n",
    "def create_profile(name, age=21,favorite_color='blue',power='flying'):\n",
    "    introduction = f\"hello my name is {name} and i am {age} years old. my favorite color is {favorite_color} and if i could have any power i would have {power}!\"\n",
    "    print(introduction)\n",
    "\n",
    "\n",
    "create_profile(\"Daniel\",power = 'teleporation')\n",
    "create_profile(\"jenna\", age=19, power= 'speed')"
   ]
  },
  {
   "cell_type": "markdown",
   "metadata": {},
   "source": [
    "# Creating a start, stop, step function"
   ]
  },
  {
   "cell_type": "code",
   "execution_count": 114,
   "metadata": {},
   "outputs": [],
   "source": [
    "def my_range(start,stop = None,step=1):\n",
    "    if stop is None:\n",
    "        stop = start\n",
    "        start = 0\n",
    "\n",
    "    while start < stop:\n",
    "        print(start)\n",
    "        start +=step"
   ]
  },
  {
   "cell_type": "code",
   "execution_count": 119,
   "metadata": {},
   "outputs": [
    {
     "name": "stdout",
     "output_type": "stream",
     "text": [
      "0\n",
      "1\n",
      "2\n",
      "3\n",
      "4\n",
      "5\n",
      "6\n",
      "7\n",
      "8\n",
      "9\n",
      "10\n",
      "11\n"
     ]
    }
   ],
   "source": [
    "my_range(12)"
   ]
  },
  {
   "cell_type": "markdown",
   "metadata": {},
   "source": [
    "##### Returning Values"
   ]
  },
  {
   "cell_type": "code",
   "execution_count": 120,
   "metadata": {},
   "outputs": [
    {
     "name": "stdout",
     "output_type": "stream",
     "text": [
      "[0, 2, 4, 6, 8, 10, 12, 14, 16, 18]\n"
     ]
    }
   ],
   "source": [
    "def my_range(start,stop = None,step=1):\n",
    "    output = [0]\n",
    "    if stop is None:\n",
    "        stop = start\n",
    "        start = 0\n",
    "\n",
    "    while start < stop:\n",
    "        output.append(start)\n",
    "        start +=step\n",
    "    return output\n",
    "\n",
    "result=my_range(2,20,2)\n",
    "print(result)"
   ]
  },
  {
   "cell_type": "code",
   "execution_count": null,
   "metadata": {},
   "outputs": [],
   "source": [
    "def blender(fruit1,fruit2):\n",
    "    smoothie = f\"you made a {fruit1} and {fruit2} smoothie\"\n",
    "    return smoothie\n",
    "smoothie1 = blender('strawberry','banna')\n",
    "smoothie1 = blender('strawberry','banna')\n",
    "smoothie1 = blender('strawberry','banna')\n",
    "print(smoothie1)"
   ]
  },
  {
   "cell_type": "markdown",
   "metadata": {},
   "source": [
    "##### *args"
   ]
  },
  {
   "cell_type": "code",
   "execution_count": 126,
   "metadata": {},
   "outputs": [
    {
     "name": "stdout",
     "output_type": "stream",
     "text": [
      "1\n",
      "1\n",
      "(1, 1, 1, 1, 1, 1, 1, 1, 1, 1, 1, 1, 1, 1, 1, 1, 1, 'Daniel', [1, 2, 3, 4])\n",
      "{'power': 'fly', 'age': 9000}\n"
     ]
    }
   ],
   "source": [
    "#gives you more room for inputs\n",
    "\n",
    "def unlimited(item1, item2 = 'test', *args, **kwargs):\n",
    "    print(item1)\n",
    "    print(item2)\n",
    "    print(args)\n",
    "    print(kwargs)\n",
    "\n",
    "unlimited(1,1,1,1,1,1,1,1,1,1,1,1,1,1,1,1,1,1,1,'Daniel', [1,2,3,4], power = 'fly', age= 9000)"
   ]
  },
  {
   "cell_type": "markdown",
   "metadata": {},
   "source": [
    "##### Docstring"
   ]
  },
  {
   "cell_type": "code",
   "execution_count": null,
   "metadata": {},
   "outputs": [],
   "source": []
  },
  {
   "cell_type": "markdown",
   "metadata": {},
   "source": [
    "##### Using a User Function in a Loop"
   ]
  },
  {
   "cell_type": "code",
   "execution_count": 128,
   "metadata": {},
   "outputs": [
    {
     "name": "stdout",
     "output_type": "stream",
     "text": [
      "you made a strawberry and banana smoothie\n"
     ]
    }
   ],
   "source": [
    "while True:\n",
    "    action = input(\"what do you want to do?(quit or make smoothie)\").lower()\n",
    "    if action == 'quit':\n",
    "        break\n",
    "    else:\n",
    "        f1=input('pick your first fruit')\n",
    "        f2=input('pick another fruit')\n",
    "        smoothie = blender(f1,f2)\n",
    "        print(smoothie)"
   ]
  },
  {
   "cell_type": "markdown",
   "metadata": {},
   "source": [
    "## Function Exercise <br>\n",
    "<p>Write a function that loops through a list of first_names and a list of last_names, combines the two and return a list of full_names</p>"
   ]
  },
  {
   "cell_type": "code",
   "execution_count": null,
   "metadata": {},
   "outputs": [],
   "source": [
    "first_name = ['John', 'Evan', 'Jordan', 'Max']\n",
    "last_name = ['Smith', 'Smith', 'Williams', 'Bell']\n",
    "\n",
    "# Output: ['John Smith', 'Evan Smith', 'Jordan Williams', 'Max Bell']\n"
   ]
  },
  {
   "cell_type": "markdown",
   "metadata": {},
   "source": [
    "## Scope <br>\n",
    "<p>Scope refers to the ability to access variables, different types of scope include:<br>a) Global<br>b) Function (local)<br>c) Class (local)</p>"
   ]
  },
  {
   "cell_type": "code",
   "execution_count": 2,
   "metadata": {},
   "outputs": [
    {
     "name": "stdout",
     "output_type": "stream",
     "text": [
      "25\n",
      "3\n"
     ]
    }
   ],
   "source": [
    "num = 3\n",
    "def func():\n",
    "    num = 10\n",
    "    num2 = 15\n",
    "    return num + num2\n",
    "\n",
    "result=func()\n",
    "print(result)\n",
    "print(num)\n"
   ]
  },
  {
   "cell_type": "code",
   "execution_count": 12,
   "metadata": {},
   "outputs": [
    {
     "ename": "NameError",
     "evalue": "name 'first_name' is not defined",
     "output_type": "error",
     "traceback": [
      "\u001b[1;31m---------------------------------------------------------------------------\u001b[0m",
      "\u001b[1;31mNameError\u001b[0m                                 Traceback (most recent call last)",
      "Cell \u001b[1;32mIn[12], line 13\u001b[0m\n\u001b[0;32m      9\u001b[0m         result\u001b[39m.\u001b[39mappend(full_name)\n\u001b[0;32m     10\u001b[0m     \u001b[39mreturn\u001b[39;00m result\n\u001b[1;32m---> 13\u001b[0m names1 \u001b[39m=\u001b[39m combine_names(first_name, last_name)\n\u001b[0;32m     14\u001b[0m names2 \u001b[39m=\u001b[39m combine_names([\u001b[39m'\u001b[39m\u001b[39mShoha\u001b[39m\u001b[39m'\u001b[39m, \u001b[39m\"\u001b[39m\u001b[39mBrendan\u001b[39m\u001b[39m\"\u001b[39m, \u001b[39m\"\u001b[39m\u001b[39mBrandt\u001b[39m\u001b[39m\"\u001b[39m], [\u001b[39m\"\u001b[39m\u001b[39mTsuchida\u001b[39m\u001b[39m\"\u001b[39m, \u001b[39m\"\u001b[39m\u001b[39mCarlson\u001b[39m\u001b[39m\"\u001b[39m, \u001b[39m\"\u001b[39m\u001b[39mCarlson\u001b[39m\u001b[39m\"\u001b[39m])\n\u001b[0;32m     15\u001b[0m \u001b[39mprint\u001b[39m(names1)\n",
      "\u001b[1;31mNameError\u001b[0m: name 'first_name' is not defined"
     ]
    }
   ],
   "source": [
    "first_names = ['John', 'Evan', 'Jordan', 'Max']\n",
    "last_names = [ 'Smith', 'Ayala', 'Carlson', 'Khan']\n",
    "\n",
    "\n",
    "def combine_names(f_names, l_names):"
   ]
  },
  {
   "cell_type": "markdown",
   "metadata": {},
   "source": [
    "# Exercises"
   ]
  },
  {
   "cell_type": "markdown",
   "metadata": {},
   "source": [
    "## Exercise 1 <br>\n",
    "<p>Given a list as a parameter,write a function that returns a list of numbers that are less than ten</b></i></p><br>\n",
    "<p> For example: Say your input parameter to the function is [1,11,14,5,8,9]...Your output should [1,5,8,9]</p>"
   ]
  },
  {
   "cell_type": "code",
   "execution_count": 42,
   "metadata": {},
   "outputs": [
    {
     "name": "stdout",
     "output_type": "stream",
     "text": [
      "[1, 5, 8, 9]\n"
     ]
    }
   ],
   "source": [
    "# Use the following list - [1,11,14,5,8,9]\n",
    "\n",
    "l_1 = [1,11,14,5,8,9]\n",
    "empty = []\n",
    "for num in l_1:\n",
    "    if num < 10:\n",
    "        empty.append(num)\n",
    "\n",
    "print(empty)\n",
    "\n",
    "    \n",
    "\n"
   ]
  },
  {
   "cell_type": "markdown",
   "metadata": {},
   "source": [
    "## Exercise 2 <br>\n",
    "<p>Write a function that takes in two lists and returns the two lists merged together and sorted<br>\n",
    "<b><i>Hint: You can use the .sort() method</i></b></p>"
   ]
  },
  {
   "cell_type": "code",
   "execution_count": 50,
   "metadata": {},
   "outputs": [
    {
     "name": "stdout",
     "output_type": "stream",
     "text": [
      "[1, 2, 3, 3, 4, 4, 5, 5, 6, 6, 7, 8, 10]\n"
     ]
    }
   ],
   "source": [
    "l_1 = [1,2,3,4,5,6]\n",
    "l_2 = [3,4,5,6,7,8,10]\n",
    "new_list = []\n",
    "def combined():\n",
    "   return l_1 + l_2\n",
    "result =combined()\n",
    "result2 = sorted(result)\n",
    "print(result2)\n",
    "\n"
   ]
  }
 ],
 "metadata": {
  "kernelspec": {
   "display_name": "Python 3",
   "language": "python",
   "name": "python3"
  },
  "language_info": {
   "codemirror_mode": {
    "name": "ipython",
    "version": 3
   },
   "file_extension": ".py",
   "mimetype": "text/x-python",
   "name": "python",
   "nbconvert_exporter": "python",
   "pygments_lexer": "ipython3",
   "version": "3.7.6"
  }
 },
 "nbformat": 4,
 "nbformat_minor": 2
}
